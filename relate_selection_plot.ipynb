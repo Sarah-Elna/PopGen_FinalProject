{
 "cells": [
  {
   "cell_type": "markdown",
   "id": "ec9d89db",
   "metadata": {},
   "source": [
    "Plotting selection"
   ]
  },
  {
   "cell_type": "code",
   "execution_count": 55,
   "id": "0aaaaf2b",
   "metadata": {},
   "outputs": [],
   "source": [
    "library(dplyr)\n",
    "library(ggplot2)"
   ]
  },
  {
   "cell_type": "code",
   "execution_count": 56,
   "id": "ed757a7c",
   "metadata": {},
   "outputs": [],
   "source": [
    "plot_selection <- function(pop_sele_file, pop){\n",
    "    \n",
    "    relate <- read.table(pop_sele_file, header=1)\n",
    "    \n",
    "    relate$p.val <- ifelse(-relate$when_mutation_has_freq2 <= -log10(0.0005), 0,\n",
    "                                      ifelse(-relate$when_mutation_has_freq2 <= -log10(0.0001), 1, 2))\n",
    "    \n",
    "    plot_name <- paste(pop, \".pdf\", sep=\"\")\n",
    "    \n",
    "    ggplot(relate, aes(x=pos, y=-when_mutation_has_freq2,  colour = factor(p.val))) + \n",
    "    geom_point() +\n",
    "    labs(x = \"Position\", y=\"-log10 p value for selection\") +\n",
    "    geom_hline(yintercept = -log10(0.0005), linetype = \"longdash\", color=\"#DC3220\") +\n",
    "    geom_hline(yintercept = -log10(0.0001), linetype = \"longdash\", color=\"#DC3220\") +\n",
    "    scale_colour_manual(values = c(\"#000000\", \"#882255\", \"#CC6677\")) +\n",
    "    ylim(0,6) +\n",
    "    ylab(\"-log 10 p-value\") +\n",
    "    xlab(\"Position\") +\n",
    "    theme(legend.position=\"none\")\n",
    "    \n",
    "    ggsave(plot_name,\n",
    "       plot = last_plot(),\n",
    "       path = \"../step2/plots\",\n",
    "       device = \"pdf\",\n",
    "       dpi = 300,\n",
    "       units = \"cm\",\n",
    "       width = 20,\n",
    "       height = 10)\n",
    "}\n",
    "\n"
   ]
  },
  {
   "cell_type": "code",
   "execution_count": 57,
   "id": "071aa027",
   "metadata": {},
   "outputs": [
    {
     "name": "stderr",
     "output_type": "stream",
     "text": [
      "Warning message:\n",
      "“\u001b[1m\u001b[22mRemoved 9556 rows containing missing values (`geom_point()`).”\n"
     ]
    }
   ],
   "source": [
    "#test\n",
    "plot_selection(\"../step2/ESN/ESN_chr3_relate_selection.sele\", \"ESN\")"
   ]
  },
  {
   "cell_type": "code",
   "execution_count": 58,
   "id": "bcefe407",
   "metadata": {},
   "outputs": [],
   "source": [
    "get_pos <- function(pop_sele_file){\n",
    "    relate <- read.table(pop_sele_file, header=1)\n",
    "    sele <- relate  %>% filter(-when_mutation_has_freq2 >= -log10(0.0001))\n",
    "    return(sele$pos)\n",
    "}"
   ]
  },
  {
   "cell_type": "code",
   "execution_count": 59,
   "id": "26e379fc",
   "metadata": {},
   "outputs": [],
   "source": [
    "files <- c(\"../step2/ESN/ESN_chr3_relate_selection.sele\",\n",
    "          \"../step2/GWD/GWD_chr3_relate_selection.sele\",\n",
    "          \"../step2/LWK/LWK_chr3_relate_selection.sele\",\n",
    "          \"../step2/MSL/MSL_chr3_relate_selection.sele\",\n",
    "          \"../step2/YRI/YRI_chr3_relate_selection.sele\")"
   ]
  },
  {
   "cell_type": "code",
   "execution_count": 60,
   "id": "826f4a3f",
   "metadata": {},
   "outputs": [
    {
     "name": "stderr",
     "output_type": "stream",
     "text": [
      "Warning message:\n",
      "“\u001b[1m\u001b[22mRemoved 9556 rows containing missing values (`geom_point()`).”\n",
      "Warning message:\n",
      "“\u001b[1m\u001b[22mRemoved 12030 rows containing missing values (`geom_point()`).”\n",
      "Warning message:\n",
      "“\u001b[1m\u001b[22mRemoved 11983 rows containing missing values (`geom_point()`).”\n",
      "Warning message:\n",
      "“\u001b[1m\u001b[22mRemoved 10168 rows containing missing values (`geom_point()`).”\n",
      "Warning message:\n",
      "“\u001b[1m\u001b[22mRemoved 9461 rows containing missing values (`geom_point()`).”\n"
     ]
    },
    {
     "data": {
      "text/html": [
       "<table class=\"dataframe\">\n",
       "<caption>A data.frame: 6 × 2</caption>\n",
       "<thead>\n",
       "\t<tr><th></th><th scope=col>population</th><th scope=col>selection_position</th></tr>\n",
       "\t<tr><th></th><th scope=col>&lt;chr&gt;</th><th scope=col>&lt;chr&gt;</th></tr>\n",
       "</thead>\n",
       "<tbody>\n",
       "\t<tr><th scope=row>1</th><td>ESN</td><td>46659530</td></tr>\n",
       "\t<tr><th scope=row>2</th><td>ESN</td><td>46741166</td></tr>\n",
       "\t<tr><th scope=row>3</th><td>ESN</td><td>50422718</td></tr>\n",
       "\t<tr><th scope=row>4</th><td>ESN</td><td>51147807</td></tr>\n",
       "\t<tr><th scope=row>5</th><td>ESN</td><td>52063886</td></tr>\n",
       "\t<tr><th scope=row>6</th><td>ESN</td><td>53695186</td></tr>\n",
       "</tbody>\n",
       "</table>\n"
      ],
      "text/latex": [
       "A data.frame: 6 × 2\n",
       "\\begin{tabular}{r|ll}\n",
       "  & population & selection\\_position\\\\\n",
       "  & <chr> & <chr>\\\\\n",
       "\\hline\n",
       "\t1 & ESN & 46659530\\\\\n",
       "\t2 & ESN & 46741166\\\\\n",
       "\t3 & ESN & 50422718\\\\\n",
       "\t4 & ESN & 51147807\\\\\n",
       "\t5 & ESN & 52063886\\\\\n",
       "\t6 & ESN & 53695186\\\\\n",
       "\\end{tabular}\n"
      ],
      "text/markdown": [
       "\n",
       "A data.frame: 6 × 2\n",
       "\n",
       "| <!--/--> | population &lt;chr&gt; | selection_position &lt;chr&gt; |\n",
       "|---|---|---|\n",
       "| 1 | ESN | 46659530 |\n",
       "| 2 | ESN | 46741166 |\n",
       "| 3 | ESN | 50422718 |\n",
       "| 4 | ESN | 51147807 |\n",
       "| 5 | ESN | 52063886 |\n",
       "| 6 | ESN | 53695186 |\n",
       "\n"
      ],
      "text/plain": [
       "  population selection_position\n",
       "1 ESN        46659530          \n",
       "2 ESN        46741166          \n",
       "3 ESN        50422718          \n",
       "4 ESN        51147807          \n",
       "5 ESN        52063886          \n",
       "6 ESN        53695186          "
      ]
     },
     "metadata": {},
     "output_type": "display_data"
    }
   ],
   "source": [
    "selection_pos <- data.frame(matrix(ncol = 2, nrow = 0))\n",
    "colnames(selection_pos) <- c('population', 'selection_position')\n",
    "\n",
    "for(i in 1:5) {\n",
    "  sele_file <- files[i]\n",
    "    pop <- substr(sele_file, 10, 12)\n",
    "    plot_selection(sele_file, pop)\n",
    "    positions <- get_pos(sele_file)\n",
    "    for(i in 1:length(positions)) {\n",
    "        selection_pos[nrow(selection_pos) + 1,] = c(pop,positions[i])\n",
    "    }\n",
    "}\n",
    "\n",
    "head(selection_pos)\n",
    "\n",
    "write.csv(selection_pos, \"../step2/selection_pos.csv\", row.names=FALSE)"
   ]
  },
  {
   "cell_type": "code",
   "execution_count": 63,
   "id": "0105bb84",
   "metadata": {},
   "outputs": [
    {
     "name": "stderr",
     "output_type": "stream",
     "text": [
      "\u001b[1m\u001b[22m`stat_bin()` using `bins = 30`. Pick better value with `binwidth`.\n",
      "\u001b[1m\u001b[22m`stat_bin()` using `bins = 30`. Pick better value with `binwidth`.\n"
     ]
    },
    {
     "data": {
      "image/png": "[encoded data removed]",
      "text/plain": [
       "plot without title"
      ]
     },
     "metadata": {
      "image/png": {
       "height": 420,
       "width": 420
      }
     },
     "output_type": "display_data"
    }
   ],
   "source": [
    "ggplot(selection_pos, aes(x=as.integer(selection_position), fill = factor(population))) +\n",
    "    geom_histogram(position=\"dodge\", alpha=0.5) +\n",
    "    xlab(\"Position \\n (bp)\") +\n",
    "    ylab(\"Count\") +\n",
    "    guides(fill=guide_legend(title=\"Population\"))\n",
    "\n",
    "\n",
    "ggsave(\"selection_positions.pdf\",\n",
    "    plot = last_plot(),\n",
    "    path = \"../step2/plots\",\n",
    "    device = \"pdf\",\n",
    "    dpi = 300,\n",
    "    units = \"cm\",\n",
    "    width = 20,\n",
    "    height = 10)"
   ]
  },
  {
   "cell_type": "code",
   "execution_count": null,
   "id": "7a1a2143",
   "metadata": {},
   "outputs": [],
   "source": []
  }
 ],
 "metadata": {
  "kernelspec": {
   "display_name": "R",
   "language": "R",
   "name": "ir"
  },
  "language_info": {
   "codemirror_mode": "r",
   "file_extension": ".r",
   "mimetype": "text/x-r-source",
   "name": "R",
   "pygments_lexer": "r",
   "version": "4.2.2"
  }
 },
 "nbformat": 4,
 "nbformat_minor": 5
}
