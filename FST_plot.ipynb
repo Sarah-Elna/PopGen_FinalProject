{
 "cells": [
  {
   "cell_type": "markdown",
   "id": "7c59dba2",
   "metadata": {},
   "source": [
    "This file analyses the output FST.py (10 .weir.fst files) and creates plots for each, and finding the significant segments within a sliding-window FST."
   ]
  },
  {
   "cell_type": "markdown",
   "id": "706a423e",
   "metadata": {},
   "source": [
    "#### 0) Load library"
   ]
  },
  {
   "cell_type": "code",
   "execution_count": 4,
   "id": "73b4c90c",
   "metadata": {},
   "outputs": [],
   "source": [
    "# Libraries\n",
    "library(ggplot2)\n",
    "library(tidyverse)"
   ]
  },
  {
   "cell_type": "markdown",
   "id": "0f53c7b4",
   "metadata": {},
   "source": [
    "#### 1) Calculate sliding window"
   ]
  },
  {
   "cell_type": "code",
   "execution_count": 5,
   "id": "1e0a869b",
   "metadata": {},
   "outputs": [],
   "source": [
    "sliding_window_fst <- function(vcf_file_name){\n",
    "    # Reading in and filtering the file\n",
    "    fst <- read_tsv(paste(\"../step1/\", vcf_file_name, sep=\"\"))\n",
    "    fst <- na.omit(fst)\n",
    "    \n",
    "    # Sliding window FST\n",
    "    n_sites <- nrow(fst) # counting number of sites in the vcf file\n",
    "    n_windows <- floor((n_sites - 100)/20) + 1 # finds the number of windows to be examined\n",
    "    \n",
    "    window_start <- seq(1, n_sites - 100 + 1, by = 20) # creates a sequence of starting positions for the sliding windows\n",
    "    window_end <- window_start + 100 - 1 # creates a list of end positions for the sliding windows\n",
    "    \n",
    "    fst_window <- data.frame(matrix(ncol = 4, nrow = n_windows)) # creates an empty data-frame structure for FST results\n",
    "    colnames(fst_window) <- c(\"chromosome\", \"window_start\", \"window_end\", \"mean_fst\") # gives the dataframe column names\n",
    "    \n",
    "    for (i in 1:n_windows) {\n",
    "        fst_window$chromosome[i] <- fst$CHROM[window_start[i]] # transfers the chromosome number from the original file to the dataframe\n",
    "        fst_window$window_start[i] <- fst$POS[window_start[i]] # transfers the starting-position from the original file to the dataframe\n",
    "        fst_window$window_end[i] <- fst$POS[window_end[i]] # transfers the end-position from the original file to the dataframe\n",
    "        fst_window$mean_fst[i] <- mean(fst$WEIR_AND_COCKERHAM_FST[window_start[i]:window_end[i]]) # calculates the mean fst within the sliding window\n",
    "    }\n",
    "    \n",
    "    fst_window <- fst_window  %>% mutate(mean_fst = ifelse (mean_fst < 0, 0, mean_fst))\n",
    "    \n",
    "    return(fst_window)\n",
    "}"
   ]
  },
  {
   "cell_type": "markdown",
   "id": "df122583",
   "metadata": {},
   "source": [
    "#### 1) Save sliding window output files with a for loop"
   ]
  },
  {
   "cell_type": "code",
   "execution_count": 6,
   "id": "3ed51740",
   "metadata": {},
   "outputs": [],
   "source": [
    "files <- c(\"FST_MSL_ESN.weir.fst\",\n",
    "          \"FST_GWD_ESN.weir.fst\",\n",
    "          \"FST_GWD_MSL.weir.fst\",\n",
    "          \"FST_LWK_ESN.weir.fst\",\n",
    "          \"FST_LWK_MSL.weir.fst\",\n",
    "          \"FST_LWK_GWD.weir.fst\",\n",
    "          \"FST_YRI_ESN.weir.fst\",\n",
    "          \"FST_YRI_MSL.weir.fst\",\n",
    "          \"FST_YRI_GWD.weir.fst\",\n",
    "          \"FST_YRI_LWK.weir.fst\")"
   ]
  },
  {
   "cell_type": "code",
   "execution_count": 7,
   "id": "c28632bd",
   "metadata": {},
   "outputs": [
    {
     "name": "stderr",
     "output_type": "stream",
     "text": [
      "\u001b[1mRows: \u001b[22m\u001b[34m206423\u001b[39m \u001b[1mColumns: \u001b[22m\u001b[34m3\u001b[39m\n",
      "\u001b[36m──\u001b[39m \u001b[1mColumn specification\u001b[22m \u001b[36m────────────────────────────────────────────────────────\u001b[39m\n",
      "\u001b[1mDelimiter:\u001b[22m \"\\t\"\n",
      "\u001b[32mdbl\u001b[39m (3): CHROM, POS, WEIR_AND_COCKERHAM_FST\n",
      "\n",
      "\u001b[36mℹ\u001b[39m Use `spec()` to retrieve the full column specification for this data.\n",
      "\u001b[36mℹ\u001b[39m Specify the column types or set `show_col_types = FALSE` to quiet this message.\n",
      "\u001b[1mRows: \u001b[22m\u001b[34m206423\u001b[39m \u001b[1mColumns: \u001b[22m\u001b[34m3\u001b[39m\n",
      "\u001b[36m──\u001b[39m \u001b[1mColumn specification\u001b[22m \u001b[36m────────────────────────────────────────────────────────\u001b[39m\n",
      "\u001b[1mDelimiter:\u001b[22m \"\\t\"\n",
      "\u001b[32mdbl\u001b[39m (3): CHROM, POS, WEIR_AND_COCKERHAM_FST\n",
      "\n",
      "\u001b[36mℹ\u001b[39m Use `spec()` to retrieve the full column specification for this data.\n",
      "\u001b[36mℹ\u001b[39m Specify the column types or set `show_col_types = FALSE` to quiet this message.\n",
      "\u001b[1mRows: \u001b[22m\u001b[34m206423\u001b[39m \u001b[1mColumns: \u001b[22m\u001b[34m3\u001b[39m\n",
      "\u001b[36m──\u001b[39m \u001b[1mColumn specification\u001b[22m \u001b[36m────────────────────────────────────────────────────────\u001b[39m\n",
      "\u001b[1mDelimiter:\u001b[22m \"\\t\"\n",
      "\u001b[32mdbl\u001b[39m (3): CHROM, POS, WEIR_AND_COCKERHAM_FST\n",
      "\n",
      "\u001b[36mℹ\u001b[39m Use `spec()` to retrieve the full column specification for this data.\n",
      "\u001b[36mℹ\u001b[39m Specify the column types or set `show_col_types = FALSE` to quiet this message.\n",
      "\u001b[1mRows: \u001b[22m\u001b[34m206423\u001b[39m \u001b[1mColumns: \u001b[22m\u001b[34m3\u001b[39m\n",
      "\u001b[36m──\u001b[39m \u001b[1mColumn specification\u001b[22m \u001b[36m────────────────────────────────────────────────────────\u001b[39m\n",
      "\u001b[1mDelimiter:\u001b[22m \"\\t\"\n",
      "\u001b[32mdbl\u001b[39m (3): CHROM, POS, WEIR_AND_COCKERHAM_FST\n",
      "\n",
      "\u001b[36mℹ\u001b[39m Use `spec()` to retrieve the full column specification for this data.\n",
      "\u001b[36mℹ\u001b[39m Specify the column types or set `show_col_types = FALSE` to quiet this message.\n",
      "\u001b[1mRows: \u001b[22m\u001b[34m206423\u001b[39m \u001b[1mColumns: \u001b[22m\u001b[34m3\u001b[39m\n",
      "\u001b[36m──\u001b[39m \u001b[1mColumn specification\u001b[22m \u001b[36m────────────────────────────────────────────────────────\u001b[39m\n",
      "\u001b[1mDelimiter:\u001b[22m \"\\t\"\n",
      "\u001b[32mdbl\u001b[39m (3): CHROM, POS, WEIR_AND_COCKERHAM_FST\n",
      "\n",
      "\u001b[36mℹ\u001b[39m Use `spec()` to retrieve the full column specification for this data.\n",
      "\u001b[36mℹ\u001b[39m Specify the column types or set `show_col_types = FALSE` to quiet this message.\n",
      "\u001b[1mRows: \u001b[22m\u001b[34m206423\u001b[39m \u001b[1mColumns: \u001b[22m\u001b[34m3\u001b[39m\n",
      "\u001b[36m──\u001b[39m \u001b[1mColumn specification\u001b[22m \u001b[36m────────────────────────────────────────────────────────\u001b[39m\n",
      "\u001b[1mDelimiter:\u001b[22m \"\\t\"\n",
      "\u001b[32mdbl\u001b[39m (3): CHROM, POS, WEIR_AND_COCKERHAM_FST\n",
      "\n",
      "\u001b[36mℹ\u001b[39m Use `spec()` to retrieve the full column specification for this data.\n",
      "\u001b[36mℹ\u001b[39m Specify the column types or set `show_col_types = FALSE` to quiet this message.\n",
      "\u001b[1mRows: \u001b[22m\u001b[34m206423\u001b[39m \u001b[1mColumns: \u001b[22m\u001b[34m3\u001b[39m\n",
      "\u001b[36m──\u001b[39m \u001b[1mColumn specification\u001b[22m \u001b[36m────────────────────────────────────────────────────────\u001b[39m\n",
      "\u001b[1mDelimiter:\u001b[22m \"\\t\"\n",
      "\u001b[32mdbl\u001b[39m (3): CHROM, POS, WEIR_AND_COCKERHAM_FST\n",
      "\n",
      "\u001b[36mℹ\u001b[39m Use `spec()` to retrieve the full column specification for this data.\n",
      "\u001b[36mℹ\u001b[39m Specify the column types or set `show_col_types = FALSE` to quiet this message.\n",
      "\u001b[1mRows: \u001b[22m\u001b[34m206423\u001b[39m \u001b[1mColumns: \u001b[22m\u001b[34m3\u001b[39m\n",
      "\u001b[36m──\u001b[39m \u001b[1mColumn specification\u001b[22m \u001b[36m────────────────────────────────────────────────────────\u001b[39m\n",
      "\u001b[1mDelimiter:\u001b[22m \"\\t\"\n",
      "\u001b[32mdbl\u001b[39m (3): CHROM, POS, WEIR_AND_COCKERHAM_FST\n",
      "\n",
      "\u001b[36mℹ\u001b[39m Use `spec()` to retrieve the full column specification for this data.\n",
      "\u001b[36mℹ\u001b[39m Specify the column types or set `show_col_types = FALSE` to quiet this message.\n",
      "\u001b[1mRows: \u001b[22m\u001b[34m206423\u001b[39m \u001b[1mColumns: \u001b[22m\u001b[34m3\u001b[39m\n",
      "\u001b[36m──\u001b[39m \u001b[1mColumn specification\u001b[22m \u001b[36m────────────────────────────────────────────────────────\u001b[39m\n",
      "\u001b[1mDelimiter:\u001b[22m \"\\t\"\n",
      "\u001b[32mdbl\u001b[39m (3): CHROM, POS, WEIR_AND_COCKERHAM_FST\n",
      "\n",
      "\u001b[36mℹ\u001b[39m Use `spec()` to retrieve the full column specification for this data.\n",
      "\u001b[36mℹ\u001b[39m Specify the column types or set `show_col_types = FALSE` to quiet this message.\n",
      "\u001b[1mRows: \u001b[22m\u001b[34m206423\u001b[39m \u001b[1mColumns: \u001b[22m\u001b[34m3\u001b[39m\n",
      "\u001b[36m──\u001b[39m \u001b[1mColumn specification\u001b[22m \u001b[36m────────────────────────────────────────────────────────\u001b[39m\n",
      "\u001b[1mDelimiter:\u001b[22m \"\\t\"\n",
      "\u001b[32mdbl\u001b[39m (3): CHROM, POS, WEIR_AND_COCKERHAM_FST\n",
      "\n",
      "\u001b[36mℹ\u001b[39m Use `spec()` to retrieve the full column specification for this data.\n",
      "\u001b[36mℹ\u001b[39m Specify the column types or set `show_col_types = FALSE` to quiet this message.\n"
     ]
    },
    {
     "name": "stdout",
     "output_type": "stream",
     "text": [
      "[[1]]\n",
      "[1] \"MSL_ESN\"\n",
      "\n",
      "[[2]]\n",
      "[1] \"GWD_ESN\"\n",
      "\n",
      "[[3]]\n",
      "[1] \"GWD_MSL\"\n",
      "\n",
      "[[4]]\n",
      "[1] \"LWK_ESN\"\n",
      "\n",
      "[[5]]\n",
      "[1] \"LWK_MSL\"\n",
      "\n",
      "[[6]]\n",
      "[1] \"LWK_GWD\"\n",
      "\n",
      "[[7]]\n",
      "[1] \"YRI_ESN\"\n",
      "\n",
      "[[8]]\n",
      "[1] \"YRI_MSL\"\n",
      "\n",
      "[[9]]\n",
      "[1] \"YRI_GWD\"\n",
      "\n",
      "[[10]]\n",
      "[1] \"YRI_LWK\"\n",
      "\n"
     ]
    }
   ],
   "source": [
    "out_files <- list()\n",
    "\n",
    "for(i in 1:10) {\n",
    "  vcf_file <- files[i]\n",
    "    pop1 <- substr(files[i],5,7)\n",
    "    pop2 <- substr(files[i],9,11)\n",
    "    fst_window <- sliding_window_fst(vcf_file)\n",
    "    out_name <- paste(pop1, pop2, sep=\"_\")\n",
    "    assign(out_name, fst_window)\n",
    "    out_files[length(out_files) + 1] <- out_name\n",
    "}\n",
    "\n",
    "print(out_files)"
   ]
  },
  {
   "cell_type": "markdown",
   "id": "1d07c455",
   "metadata": {},
   "source": [
    "#### 2) Make an FST histogram to find 5% significance level"
   ]
  },
  {
   "cell_type": "code",
   "execution_count": 8,
   "id": "e3d3f90b",
   "metadata": {},
   "outputs": [
    {
     "data": {
      "text/html": [
       "<style>\n",
       ".list-inline {list-style: none; margin:0; padding: 0}\n",
       ".list-inline>li {display: inline-block}\n",
       ".list-inline>li:not(:last-child)::after {content: \"\\00b7\"; padding: 0 .5ex}\n",
       "</style>\n",
       "<ol class=list-inline><li>28633</li><li>5</li></ol>\n"
      ],
      "text/latex": [
       "\\begin{enumerate*}\n",
       "\\item 28633\n",
       "\\item 5\n",
       "\\end{enumerate*}\n"
      ],
      "text/markdown": [
       "1. 28633\n",
       "2. 5\n",
       "\n",
       "\n"
      ],
      "text/plain": [
       "[1] 28633     5"
      ]
     },
     "metadata": {},
     "output_type": "display_data"
    },
    {
     "data": {
      "text/html": [
       "<style>\n",
       ".list-inline {list-style: none; margin:0; padding: 0}\n",
       ".list-inline>li {display: inline-block}\n",
       ".list-inline>li:not(:last-child)::after {content: \"\\00b7\"; padding: 0 .5ex}\n",
       "</style>\n",
       "<ol class=list-inline><li>'chromosome'</li><li>'window_start'</li><li>'window_end'</li><li>'mean_fst'</li><li>'ID'</li></ol>\n"
      ],
      "text/latex": [
       "\\begin{enumerate*}\n",
       "\\item 'chromosome'\n",
       "\\item 'window\\_start'\n",
       "\\item 'window\\_end'\n",
       "\\item 'mean\\_fst'\n",
       "\\item 'ID'\n",
       "\\end{enumerate*}\n"
      ],
      "text/markdown": [
       "1. 'chromosome'\n",
       "2. 'window_start'\n",
       "3. 'window_end'\n",
       "4. 'mean_fst'\n",
       "5. 'ID'\n",
       "\n",
       "\n"
      ],
      "text/plain": [
       "[1] \"chromosome\"   \"window_start\" \"window_end\"   \"mean_fst\"     \"ID\"          "
      ]
     },
     "metadata": {},
     "output_type": "display_data"
    }
   ],
   "source": [
    "fst_df <- rbind(MSL_ESN, GWD_ESN, GWD_MSL, LWK_ESN, LWK_MSL, LWK_GWD, YRI_ESN, YRI_MSL, YRI_GWD, YRI_LWK)\n",
    "\n",
    "fst_df$ID <- 1:nrow(fst_df)\n",
    "\n",
    "dim(fst_df)\n",
    "\n",
    "colnames(fst_df)"
   ]
  },
  {
   "cell_type": "code",
   "execution_count": 9,
   "id": "810b6925",
   "metadata": {},
   "outputs": [
    {
     "data": {
      "text/html": [
       "<style>\n",
       ".dl-inline {width: auto; margin:0; padding: 0}\n",
       ".dl-inline>dt, .dl-inline>dd {float: none; width: auto; display: inline-block}\n",
       ".dl-inline>dt::after {content: \":\\0020\"; padding-right: .5ex}\n",
       ".dl-inline>dt:not(:first-of-type) {padding-left: .5ex}\n",
       "</style><dl class=dl-inline><dt>50%</dt><dd>0.00462066948000003</dd><dt>75%</dt><dd>0.00755564287</dd><dt>95%</dt><dd>0.0136933966528</dd><dt>99.5%</dt><dd>0.0233865890232</dd></dl>\n"
      ],
      "text/latex": [
       "\\begin{description*}\n",
       "\\item[50\\textbackslash{}\\%] 0.00462066948000003\n",
       "\\item[75\\textbackslash{}\\%] 0.00755564287\n",
       "\\item[95\\textbackslash{}\\%] 0.0136933966528\n",
       "\\item[99.5\\textbackslash{}\\%] 0.0233865890232\n",
       "\\end{description*}\n"
      ],
      "text/markdown": [
       "50%\n",
       ":   0.0046206694800000375%\n",
       ":   0.0075556428795%\n",
       ":   0.013693396652899.5%\n",
       ":   0.0233865890232\n",
       "\n"
      ],
      "text/plain": [
       "        50%         75%         95%       99.5% \n",
       "0.004620669 0.007555643 0.013693397 0.023386589 "
      ]
     },
     "metadata": {},
     "output_type": "display_data"
    }
   ],
   "source": [
    "quantile(fst_df$mean_fst, probs = c(.50, .75, .95, .995))"
   ]
  },
  {
   "cell_type": "code",
   "execution_count": 10,
   "id": "27cfa792",
   "metadata": {},
   "outputs": [
    {
     "name": "stderr",
     "output_type": "stream",
     "text": [
      "\u001b[1m\u001b[22m`stat_bin()` using `bins = 30`. Pick better value with `binwidth`.\n",
      "\u001b[1m\u001b[22m`stat_bin()` using `bins = 30`. Pick better value with `binwidth`.\n"
     ]
    },
    {
     "data": {
      "image/png": "[encoded data removed]",
      "text/plain": [
       "plot without title"
      ]
     },
     "metadata": {
      "image/png": {
       "height": 420,
       "width": 420
      }
     },
     "output_type": "display_data"
    }
   ],
   "source": [
    "fst_hist <- ggplot(fst_df, aes(x=mean_fst)) + \n",
    "    geom_histogram(colour=\"#005AB5\", fill=\"white\") +\n",
    "    geom_vline(xintercept = 0.00462066948000003, linetype = \"dashed\", color = \"#DC3220\") +\n",
    "    geom_text(aes(x = 0.00462066948000003, y = 3900, label=\"\\n50%\"), angle=90) +\n",
    "    geom_vline(xintercept = 0.00755564287, linetype = \"dashed\", color= \"#DC3220\") +\n",
    "    geom_text(aes(x = 0.00755564287, y = 3900, label=\"\\n75%\"), angle=90) +\n",
    "    geom_vline(xintercept = 0.0136933966528, linetype = \"dashed\", color = \"#DC3220\") +\n",
    "    geom_text(aes(x = 0.0136933966528, y = 3900, label=\"\\n95%\"), angle=90) +\n",
    "    geom_vline(xintercept = 0.0233865890232, linetype = \"dashed\", color = \"#DC3220\") +\n",
    "    geom_text(aes(x = 0.0233865890232, y = 3900, label=\"\\n99.5%\"), angle=90) +\n",
    "    ylab(\"Count\") +\n",
    "    xlab(\"Mean FST \\n (100 SNP sliding window)\")\n",
    "\n",
    "print(fst_hist)\n",
    "\n",
    "ggsave(\"fst_hist.pdf\",\n",
    "       plot = fst_hist,\n",
    "       path = \"../step1/FST_plots\",\n",
    "       device = \"pdf\",\n",
    "       dpi = 300,\n",
    "       units = \"cm\",\n",
    "       width = 10,\n",
    "       height = 10)"
   ]
  },
  {
   "cell_type": "markdown",
   "id": "7755ab89",
   "metadata": {},
   "source": [
    "#### 3) Create FST plots that shows 5% significance"
   ]
  },
  {
   "cell_type": "code",
   "execution_count": 11,
   "id": "79f4da03",
   "metadata": {},
   "outputs": [],
   "source": [
    "plot_fst <- function(fst_window_file, pops){\n",
    "    \n",
    "    fst_window_file$quantile <- ifelse(fst_window_file$mean_fst <= 0.0136933966528, 0,\n",
    "                                      ifelse(fst_window_file$mean_fst <= 0.0233865890232, 1, 2))\n",
    "    \n",
    "    plot_name <- paste(pops, \".pdf\", sep=\"\")\n",
    "    \n",
    "    ggplot(data = fst_window_file, aes(x = window_start, y = mean_fst, colour = factor(quantile))) +\n",
    "            geom_point() +\n",
    "            geom_hline(yintercept = 0.0136933966528, linetype = \"dashed\", color = \"#DC3220\") +\n",
    "            geom_hline(yintercept = 0.0233865890232, linetype = \"dashed\", color = \"#DC3220\") +\n",
    "            scale_colour_manual(values = c(\"#000000\", \"#882255\", \"#CC6677\")) +\n",
    "            ylab(\"Mean FST\") +\n",
    "            xlab(\"Starting position\") +\n",
    "            theme(legend.position=\"none\")\n",
    "    \n",
    "    ggsave(plot_name,\n",
    "       plot = last_plot(),\n",
    "       path = \"../step1/FST_plots\",\n",
    "       device = \"pdf\",\n",
    "       dpi = 300,\n",
    "       units = \"cm\",\n",
    "       width = 10,\n",
    "       height = 10)\n",
    "    \n",
    "    \n",
    "}"
   ]
  },
  {
   "cell_type": "code",
   "execution_count": 12,
   "id": "fad12861",
   "metadata": {},
   "outputs": [
    {
     "name": "stdout",
     "output_type": "stream",
     "text": [
      "[1] \"MSL_ESN\"\n"
     ]
    },
    {
     "name": "stderr",
     "output_type": "stream",
     "text": [
      "\u001b[1mRows: \u001b[22m\u001b[34m206423\u001b[39m \u001b[1mColumns: \u001b[22m\u001b[34m3\u001b[39m\n",
      "\u001b[36m──\u001b[39m \u001b[1mColumn specification\u001b[22m \u001b[36m────────────────────────────────────────────────────────\u001b[39m\n",
      "\u001b[1mDelimiter:\u001b[22m \"\\t\"\n",
      "\u001b[32mdbl\u001b[39m (3): CHROM, POS, WEIR_AND_COCKERHAM_FST\n",
      "\n",
      "\u001b[36mℹ\u001b[39m Use `spec()` to retrieve the full column specification for this data.\n",
      "\u001b[36mℹ\u001b[39m Specify the column types or set `show_col_types = FALSE` to quiet this message.\n"
     ]
    },
    {
     "name": "stdout",
     "output_type": "stream",
     "text": [
      "[1] \"GWD_ESN\"\n"
     ]
    },
    {
     "name": "stderr",
     "output_type": "stream",
     "text": [
      "\u001b[1mRows: \u001b[22m\u001b[34m206423\u001b[39m \u001b[1mColumns: \u001b[22m\u001b[34m3\u001b[39m\n",
      "\u001b[36m──\u001b[39m \u001b[1mColumn specification\u001b[22m \u001b[36m────────────────────────────────────────────────────────\u001b[39m\n",
      "\u001b[1mDelimiter:\u001b[22m \"\\t\"\n",
      "\u001b[32mdbl\u001b[39m (3): CHROM, POS, WEIR_AND_COCKERHAM_FST\n",
      "\n",
      "\u001b[36mℹ\u001b[39m Use `spec()` to retrieve the full column specification for this data.\n",
      "\u001b[36mℹ\u001b[39m Specify the column types or set `show_col_types = FALSE` to quiet this message.\n"
     ]
    },
    {
     "name": "stdout",
     "output_type": "stream",
     "text": [
      "[1] \"GWD_MSL\"\n"
     ]
    },
    {
     "name": "stderr",
     "output_type": "stream",
     "text": [
      "\u001b[1mRows: \u001b[22m\u001b[34m206423\u001b[39m \u001b[1mColumns: \u001b[22m\u001b[34m3\u001b[39m\n",
      "\u001b[36m──\u001b[39m \u001b[1mColumn specification\u001b[22m \u001b[36m────────────────────────────────────────────────────────\u001b[39m\n",
      "\u001b[1mDelimiter:\u001b[22m \"\\t\"\n",
      "\u001b[32mdbl\u001b[39m (3): CHROM, POS, WEIR_AND_COCKERHAM_FST\n",
      "\n",
      "\u001b[36mℹ\u001b[39m Use `spec()` to retrieve the full column specification for this data.\n",
      "\u001b[36mℹ\u001b[39m Specify the column types or set `show_col_types = FALSE` to quiet this message.\n"
     ]
    },
    {
     "name": "stdout",
     "output_type": "stream",
     "text": [
      "[1] \"LWK_ESN\"\n"
     ]
    },
    {
     "name": "stderr",
     "output_type": "stream",
     "text": [
      "\u001b[1mRows: \u001b[22m\u001b[34m206423\u001b[39m \u001b[1mColumns: \u001b[22m\u001b[34m3\u001b[39m\n",
      "\u001b[36m──\u001b[39m \u001b[1mColumn specification\u001b[22m \u001b[36m────────────────────────────────────────────────────────\u001b[39m\n",
      "\u001b[1mDelimiter:\u001b[22m \"\\t\"\n",
      "\u001b[32mdbl\u001b[39m (3): CHROM, POS, WEIR_AND_COCKERHAM_FST\n",
      "\n",
      "\u001b[36mℹ\u001b[39m Use `spec()` to retrieve the full column specification for this data.\n",
      "\u001b[36mℹ\u001b[39m Specify the column types or set `show_col_types = FALSE` to quiet this message.\n"
     ]
    },
    {
     "name": "stdout",
     "output_type": "stream",
     "text": [
      "[1] \"LWK_MSL\"\n"
     ]
    },
    {
     "name": "stderr",
     "output_type": "stream",
     "text": [
      "\u001b[1mRows: \u001b[22m\u001b[34m206423\u001b[39m \u001b[1mColumns: \u001b[22m\u001b[34m3\u001b[39m\n",
      "\u001b[36m──\u001b[39m \u001b[1mColumn specification\u001b[22m \u001b[36m────────────────────────────────────────────────────────\u001b[39m\n",
      "\u001b[1mDelimiter:\u001b[22m \"\\t\"\n",
      "\u001b[32mdbl\u001b[39m (3): CHROM, POS, WEIR_AND_COCKERHAM_FST\n",
      "\n",
      "\u001b[36mℹ\u001b[39m Use `spec()` to retrieve the full column specification for this data.\n",
      "\u001b[36mℹ\u001b[39m Specify the column types or set `show_col_types = FALSE` to quiet this message.\n"
     ]
    },
    {
     "name": "stdout",
     "output_type": "stream",
     "text": [
      "[1] \"LWK_GWD\"\n"
     ]
    },
    {
     "name": "stderr",
     "output_type": "stream",
     "text": [
      "\u001b[1mRows: \u001b[22m\u001b[34m206423\u001b[39m \u001b[1mColumns: \u001b[22m\u001b[34m3\u001b[39m\n",
      "\u001b[36m──\u001b[39m \u001b[1mColumn specification\u001b[22m \u001b[36m────────────────────────────────────────────────────────\u001b[39m\n",
      "\u001b[1mDelimiter:\u001b[22m \"\\t\"\n",
      "\u001b[32mdbl\u001b[39m (3): CHROM, POS, WEIR_AND_COCKERHAM_FST\n",
      "\n",
      "\u001b[36mℹ\u001b[39m Use `spec()` to retrieve the full column specification for this data.\n",
      "\u001b[36mℹ\u001b[39m Specify the column types or set `show_col_types = FALSE` to quiet this message.\n"
     ]
    },
    {
     "name": "stdout",
     "output_type": "stream",
     "text": [
      "[1] \"YRI_ESN\"\n"
     ]
    },
    {
     "name": "stderr",
     "output_type": "stream",
     "text": [
      "\u001b[1mRows: \u001b[22m\u001b[34m206423\u001b[39m \u001b[1mColumns: \u001b[22m\u001b[34m3\u001b[39m\n",
      "\u001b[36m──\u001b[39m \u001b[1mColumn specification\u001b[22m \u001b[36m────────────────────────────────────────────────────────\u001b[39m\n",
      "\u001b[1mDelimiter:\u001b[22m \"\\t\"\n",
      "\u001b[32mdbl\u001b[39m (3): CHROM, POS, WEIR_AND_COCKERHAM_FST\n",
      "\n",
      "\u001b[36mℹ\u001b[39m Use `spec()` to retrieve the full column specification for this data.\n",
      "\u001b[36mℹ\u001b[39m Specify the column types or set `show_col_types = FALSE` to quiet this message.\n"
     ]
    },
    {
     "name": "stdout",
     "output_type": "stream",
     "text": [
      "[1] \"YRI_MSL\"\n"
     ]
    },
    {
     "name": "stderr",
     "output_type": "stream",
     "text": [
      "\u001b[1mRows: \u001b[22m\u001b[34m206423\u001b[39m \u001b[1mColumns: \u001b[22m\u001b[34m3\u001b[39m\n",
      "\u001b[36m──\u001b[39m \u001b[1mColumn specification\u001b[22m \u001b[36m────────────────────────────────────────────────────────\u001b[39m\n",
      "\u001b[1mDelimiter:\u001b[22m \"\\t\"\n",
      "\u001b[32mdbl\u001b[39m (3): CHROM, POS, WEIR_AND_COCKERHAM_FST\n",
      "\n",
      "\u001b[36mℹ\u001b[39m Use `spec()` to retrieve the full column specification for this data.\n",
      "\u001b[36mℹ\u001b[39m Specify the column types or set `show_col_types = FALSE` to quiet this message.\n"
     ]
    },
    {
     "name": "stdout",
     "output_type": "stream",
     "text": [
      "[1] \"YRI_GWD\"\n"
     ]
    },
    {
     "name": "stderr",
     "output_type": "stream",
     "text": [
      "\u001b[1mRows: \u001b[22m\u001b[34m206423\u001b[39m \u001b[1mColumns: \u001b[22m\u001b[34m3\u001b[39m\n",
      "\u001b[36m──\u001b[39m \u001b[1mColumn specification\u001b[22m \u001b[36m────────────────────────────────────────────────────────\u001b[39m\n",
      "\u001b[1mDelimiter:\u001b[22m \"\\t\"\n",
      "\u001b[32mdbl\u001b[39m (3): CHROM, POS, WEIR_AND_COCKERHAM_FST\n",
      "\n",
      "\u001b[36mℹ\u001b[39m Use `spec()` to retrieve the full column specification for this data.\n",
      "\u001b[36mℹ\u001b[39m Specify the column types or set `show_col_types = FALSE` to quiet this message.\n"
     ]
    },
    {
     "name": "stdout",
     "output_type": "stream",
     "text": [
      "[1] \"YRI_LWK\"\n"
     ]
    },
    {
     "name": "stderr",
     "output_type": "stream",
     "text": [
      "\u001b[1mRows: \u001b[22m\u001b[34m206423\u001b[39m \u001b[1mColumns: \u001b[22m\u001b[34m3\u001b[39m\n",
      "\u001b[36m──\u001b[39m \u001b[1mColumn specification\u001b[22m \u001b[36m────────────────────────────────────────────────────────\u001b[39m\n",
      "\u001b[1mDelimiter:\u001b[22m \"\\t\"\n",
      "\u001b[32mdbl\u001b[39m (3): CHROM, POS, WEIR_AND_COCKERHAM_FST\n",
      "\n",
      "\u001b[36mℹ\u001b[39m Use `spec()` to retrieve the full column specification for this data.\n",
      "\u001b[36mℹ\u001b[39m Specify the column types or set `show_col_types = FALSE` to quiet this message.\n"
     ]
    }
   ],
   "source": [
    "for(i in 1:10) {\n",
    "  vcf_file <- files[i]\n",
    "    pops <- substr(files[i], 5, 11)\n",
    "    print(pops)\n",
    "    fst_window <- sliding_window_fst(vcf_file)\n",
    "    plot_fst(fst_window, pops)\n",
    "}"
   ]
  },
  {
   "cell_type": "code",
   "execution_count": 13,
   "id": "26c19f8f",
   "metadata": {},
   "outputs": [],
   "source": [
    "plot_fst(fst_df, \"all\")"
   ]
  },
  {
   "cell_type": "code",
   "execution_count": 20,
   "id": "1f075066",
   "metadata": {},
   "outputs": [
    {
     "data": {
      "text/html": [
       "<table class=\"dataframe\">\n",
       "<caption>A data.frame: 6 × 5</caption>\n",
       "<thead>\n",
       "\t<tr><th></th><th scope=col>chromosome</th><th scope=col>window_start</th><th scope=col>window_end</th><th scope=col>mean_fst</th><th scope=col>ID</th></tr>\n",
       "\t<tr><th></th><th scope=col>&lt;dbl&gt;</th><th scope=col>&lt;dbl&gt;</th><th scope=col>&lt;dbl&gt;</th><th scope=col>&lt;dbl&gt;</th><th scope=col>&lt;int&gt;</th></tr>\n",
       "</thead>\n",
       "<tbody>\n",
       "\t<tr><th scope=row>1</th><td>3</td><td>46342439</td><td>46353556</td><td>0.02370309</td><td>2881</td></tr>\n",
       "\t<tr><th scope=row>2</th><td>3</td><td>46345422</td><td>46355413</td><td>0.02380155</td><td>2882</td></tr>\n",
       "\t<tr><th scope=row>3</th><td>3</td><td>51257986</td><td>51276702</td><td>0.02488167</td><td>4574</td></tr>\n",
       "\t<tr><th scope=row>4</th><td>3</td><td>51262265</td><td>51278870</td><td>0.02575413</td><td>4575</td></tr>\n",
       "\t<tr><th scope=row>5</th><td>3</td><td>51266542</td><td>51280747</td><td>0.02920229</td><td>4576</td></tr>\n",
       "\t<tr><th scope=row>6</th><td>3</td><td>51269686</td><td>51283566</td><td>0.02965860</td><td>4577</td></tr>\n",
       "</tbody>\n",
       "</table>\n"
      ],
      "text/latex": [
       "A data.frame: 6 × 5\n",
       "\\begin{tabular}{r|lllll}\n",
       "  & chromosome & window\\_start & window\\_end & mean\\_fst & ID\\\\\n",
       "  & <dbl> & <dbl> & <dbl> & <dbl> & <int>\\\\\n",
       "\\hline\n",
       "\t1 & 3 & 46342439 & 46353556 & 0.02370309 & 2881\\\\\n",
       "\t2 & 3 & 46345422 & 46355413 & 0.02380155 & 2882\\\\\n",
       "\t3 & 3 & 51257986 & 51276702 & 0.02488167 & 4574\\\\\n",
       "\t4 & 3 & 51262265 & 51278870 & 0.02575413 & 4575\\\\\n",
       "\t5 & 3 & 51266542 & 51280747 & 0.02920229 & 4576\\\\\n",
       "\t6 & 3 & 51269686 & 51283566 & 0.02965860 & 4577\\\\\n",
       "\\end{tabular}\n"
      ],
      "text/markdown": [
       "\n",
       "A data.frame: 6 × 5\n",
       "\n",
       "| <!--/--> | chromosome &lt;dbl&gt; | window_start &lt;dbl&gt; | window_end &lt;dbl&gt; | mean_fst &lt;dbl&gt; | ID &lt;int&gt; |\n",
       "|---|---|---|---|---|---|\n",
       "| 1 | 3 | 46342439 | 46353556 | 0.02370309 | 2881 |\n",
       "| 2 | 3 | 46345422 | 46355413 | 0.02380155 | 2882 |\n",
       "| 3 | 3 | 51257986 | 51276702 | 0.02488167 | 4574 |\n",
       "| 4 | 3 | 51262265 | 51278870 | 0.02575413 | 4575 |\n",
       "| 5 | 3 | 51266542 | 51280747 | 0.02920229 | 4576 |\n",
       "| 6 | 3 | 51269686 | 51283566 | 0.02965860 | 4577 |\n",
       "\n"
      ],
      "text/plain": [
       "  chromosome window_start window_end mean_fst   ID  \n",
       "1 3          46342439     46353556   0.02370309 2881\n",
       "2 3          46345422     46355413   0.02380155 2882\n",
       "3 3          51257986     51276702   0.02488167 4574\n",
       "4 3          51262265     51278870   0.02575413 4575\n",
       "5 3          51266542     51280747   0.02920229 4576\n",
       "6 3          51269686     51283566   0.02965860 4577"
      ]
     },
     "metadata": {},
     "output_type": "display_data"
    }
   ],
   "source": [
    "high_fst <- fst_df %>% filter(mean_fst >= 0.0233865890232)\n",
    "\n",
    "head(high_fst)"
   ]
  },
  {
   "cell_type": "code",
   "execution_count": 24,
   "id": "44489cb0",
   "metadata": {},
   "outputs": [
    {
     "name": "stderr",
     "output_type": "stream",
     "text": [
      "Warning message:\n",
      "“\u001b[1m\u001b[22mRemoved 2 rows containing missing values (`geom_bar()`).”\n",
      "Warning message:\n",
      "“\u001b[1m\u001b[22mRemoved 2 rows containing missing values (`geom_bar()`).”\n"
     ]
    },
    {
     "data": {
      "image/png": "[encoded data removed]",
      "text/plain": [
       "plot without title"
      ]
     },
     "metadata": {
      "image/png": {
       "height": 420,
       "width": 420
      }
     },
     "output_type": "display_data"
    }
   ],
   "source": [
    "ggplot(high_fst, aes(x=window_start)) +\n",
    "    geom_histogram(bins = 100) + \n",
    "    xlim(4.6e+07, 5.4e+07) +\n",
    "    xlab(\"Position \\n (bp)\") +\n",
    "    ylab(\"Count\")\n",
    "\n",
    "ggsave(\"high_FST_position.pdf\",\n",
    "    plot = last_plot(),\n",
    "    path = \"../step1/FST_plots\",\n",
    "    device = \"pdf\",\n",
    "    dpi = 300,\n",
    "    units = \"cm\",\n",
    "    width = 20,\n",
    "    height = 10)"
   ]
  },
  {
   "cell_type": "code",
   "execution_count": 25,
   "id": "6e370f4f",
   "metadata": {},
   "outputs": [],
   "source": [
    "write.csv(high_fst, \"../step1/high_fst.csv\", row.names=FALSE)"
   ]
  },
  {
   "cell_type": "code",
   "execution_count": 26,
   "id": "cbea7ac1",
   "metadata": {},
   "outputs": [],
   "source": [
    "peak_fst <- fst_df %>% filter(window_start >= 5.1e+07, window_start <= 5.2e+07)"
   ]
  },
  {
   "cell_type": "code",
   "execution_count": 28,
   "id": "8681b876",
   "metadata": {},
   "outputs": [
    {
     "data": {
      "text/html": [
       "51506205.1078431"
      ],
      "text/latex": [
       "51506205.1078431"
      ],
      "text/markdown": [
       "51506205.1078431"
      ],
      "text/plain": [
       "[1] 51506205"
      ]
     },
     "metadata": {},
     "output_type": "display_data"
    }
   ],
   "source": [
    "mean(peak_fst$window_start)"
   ]
  }
 ],
 "metadata": {
  "kernelspec": {
   "display_name": "R",
   "language": "R",
   "name": "ir"
  },
  "language_info": {
   "codemirror_mode": "r",
   "file_extension": ".r",
   "mimetype": "text/x-r-source",
   "name": "R",
   "pygments_lexer": "r",
   "version": "4.2.2"
  }
 },
 "nbformat": 4,
 "nbformat_minor": 5
}
